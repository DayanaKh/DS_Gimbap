{
 "cells": [
  {
   "cell_type": "markdown",
   "metadata": {},
   "source": [
    "# Team Gimbap\n"
   ]
  },
  {
   "cell_type": "code",
   "execution_count": 1,
   "metadata": {},
   "outputs": [],
   "source": [
    "import pandas as pd\n",
    "import matplotlib.pyplot as plt\n",
    "import numpy as np\n",
    "from sklearn.model_selection import train_test_split \n",
    "from sklearn.linear_model import LinearRegression\n",
    "from sklearn.metrics import r2_score\n",
    "from sklearn.metrics import mean_squared_error\n",
    "from sklearn.preprocessing import PolynomialFeatures"
   ]
  },
  {
   "cell_type": "code",
   "execution_count": 2,
   "metadata": {},
   "outputs": [
    {
     "data": {
      "text/html": [
       "<div>\n",
       "<style scoped>\n",
       "    .dataframe tbody tr th:only-of-type {\n",
       "        vertical-align: middle;\n",
       "    }\n",
       "\n",
       "    .dataframe tbody tr th {\n",
       "        vertical-align: top;\n",
       "    }\n",
       "\n",
       "    .dataframe thead th {\n",
       "        text-align: right;\n",
       "    }\n",
       "</style>\n",
       "<table border=\"1\" class=\"dataframe\">\n",
       "  <thead>\n",
       "    <tr style=\"text-align: right;\">\n",
       "      <th></th>\n",
       "      <th>Country</th>\n",
       "      <th>Happiness Score</th>\n",
       "    </tr>\n",
       "  </thead>\n",
       "  <tbody>\n",
       "    <tr>\n",
       "      <th>0</th>\n",
       "      <td>Switzerland</td>\n",
       "      <td>7.587</td>\n",
       "    </tr>\n",
       "    <tr>\n",
       "      <th>1</th>\n",
       "      <td>Iceland</td>\n",
       "      <td>7.561</td>\n",
       "    </tr>\n",
       "    <tr>\n",
       "      <th>2</th>\n",
       "      <td>Denmark</td>\n",
       "      <td>7.527</td>\n",
       "    </tr>\n",
       "    <tr>\n",
       "      <th>3</th>\n",
       "      <td>Norway</td>\n",
       "      <td>7.522</td>\n",
       "    </tr>\n",
       "    <tr>\n",
       "      <th>4</th>\n",
       "      <td>Canada</td>\n",
       "      <td>7.427</td>\n",
       "    </tr>\n",
       "  </tbody>\n",
       "</table>\n",
       "</div>"
      ],
      "text/plain": [
       "       Country  Happiness Score\n",
       "0  Switzerland            7.587\n",
       "1      Iceland            7.561\n",
       "2      Denmark            7.527\n",
       "3       Norway            7.522\n",
       "4       Canada            7.427"
      ]
     },
     "execution_count": 2,
     "metadata": {},
     "output_type": "execute_result"
    }
   ],
   "source": [
    "#upload and clean the happiness data\n",
    "df_happiness = pd.read_csv(\"./hapiness.csv\", usecols=['Country', 'Happiness Score'])\n",
    "df_happiness.head()"
   ]
  },
  {
   "cell_type": "code",
   "execution_count": 3,
   "metadata": {},
   "outputs": [
    {
     "data": {
      "text/html": [
       "<div>\n",
       "<style scoped>\n",
       "    .dataframe tbody tr th:only-of-type {\n",
       "        vertical-align: middle;\n",
       "    }\n",
       "\n",
       "    .dataframe tbody tr th {\n",
       "        vertical-align: top;\n",
       "    }\n",
       "\n",
       "    .dataframe thead th {\n",
       "        text-align: right;\n",
       "    }\n",
       "</style>\n",
       "<table border=\"1\" class=\"dataframe\">\n",
       "  <thead>\n",
       "    <tr style=\"text-align: right;\">\n",
       "      <th></th>\n",
       "      <th>Country</th>\n",
       "      <th>Suicide rate per 10^5</th>\n",
       "    </tr>\n",
       "  </thead>\n",
       "  <tbody>\n",
       "    <tr>\n",
       "      <th>0</th>\n",
       "      <td>Afghanistan</td>\n",
       "      <td>6.6</td>\n",
       "    </tr>\n",
       "    <tr>\n",
       "      <th>1</th>\n",
       "      <td>Albania</td>\n",
       "      <td>5.3</td>\n",
       "    </tr>\n",
       "    <tr>\n",
       "      <th>2</th>\n",
       "      <td>Algeria</td>\n",
       "      <td>3.4</td>\n",
       "    </tr>\n",
       "    <tr>\n",
       "      <th>3</th>\n",
       "      <td>Angola</td>\n",
       "      <td>9.3</td>\n",
       "    </tr>\n",
       "    <tr>\n",
       "      <th>4</th>\n",
       "      <td>Antigua and Barbuda</td>\n",
       "      <td>0.8</td>\n",
       "    </tr>\n",
       "  </tbody>\n",
       "</table>\n",
       "</div>"
      ],
      "text/plain": [
       "               Country  Suicide rate per 10^5\n",
       "0          Afghanistan                    6.6\n",
       "1              Albania                    5.3\n",
       "2              Algeria                    3.4\n",
       "3               Angola                    9.3\n",
       "4  Antigua and Barbuda                    0.8"
      ]
     },
     "execution_count": 3,
     "metadata": {},
     "output_type": "execute_result"
    }
   ],
   "source": [
    "#upload and clean the suicide data\n",
    "df_suicide = pd.read_csv(\"./suicide.csv\", usecols= [\"Unnamed: 0\",\"Unnamed: 1\",\n",
    "                \"Age-standardized suicide rates (per 100 000 population).1\"]).drop(0).rename(columns={\"Unnamed: 0\": \"Country\", \n",
    "                  \"Unnamed: 1\": \"sex\", \"Age-standardized suicide rates (per 100 000 population).1\": \"Suicide rate per 10^5\"})\n",
    "\n",
    "df_suicide = df_suicide[df_suicide[\"sex\"]==\"Both sexes\"].reset_index().drop(columns=['sex', 'index'])\n",
    "df_suicide.head()"
   ]
  },
  {
   "cell_type": "markdown",
   "metadata": {},
   "source": [
    "## Erzeugung zusammengefügte Liste "
   ]
  },
  {
   "cell_type": "code",
   "execution_count": 4,
   "metadata": {},
   "outputs": [
    {
     "name": "stdout",
     "output_type": "stream",
     "text": [
      "Number of countries: 134\n"
     ]
    },
    {
     "data": {
      "text/html": [
       "<div>\n",
       "<style scoped>\n",
       "    .dataframe tbody tr th:only-of-type {\n",
       "        vertical-align: middle;\n",
       "    }\n",
       "\n",
       "    .dataframe tbody tr th {\n",
       "        vertical-align: top;\n",
       "    }\n",
       "\n",
       "    .dataframe thead th {\n",
       "        text-align: right;\n",
       "    }\n",
       "</style>\n",
       "<table border=\"1\" class=\"dataframe\">\n",
       "  <thead>\n",
       "    <tr style=\"text-align: right;\">\n",
       "      <th></th>\n",
       "      <th>Country</th>\n",
       "      <th>Happiness Score</th>\n",
       "      <th>Suicide rate per 10^5</th>\n",
       "    </tr>\n",
       "  </thead>\n",
       "  <tbody>\n",
       "    <tr>\n",
       "      <th>0</th>\n",
       "      <td>Afghanistan</td>\n",
       "      <td>3.575</td>\n",
       "      <td>6.6</td>\n",
       "    </tr>\n",
       "    <tr>\n",
       "      <th>1</th>\n",
       "      <td>Albania</td>\n",
       "      <td>4.959</td>\n",
       "      <td>5.3</td>\n",
       "    </tr>\n",
       "    <tr>\n",
       "      <th>2</th>\n",
       "      <td>Algeria</td>\n",
       "      <td>5.605</td>\n",
       "      <td>3.4</td>\n",
       "    </tr>\n",
       "    <tr>\n",
       "      <th>3</th>\n",
       "      <td>Angola</td>\n",
       "      <td>4.033</td>\n",
       "      <td>9.3</td>\n",
       "    </tr>\n",
       "    <tr>\n",
       "      <th>4</th>\n",
       "      <td>Argentina</td>\n",
       "      <td>6.574</td>\n",
       "      <td>8.7</td>\n",
       "    </tr>\n",
       "  </tbody>\n",
       "</table>\n",
       "</div>"
      ],
      "text/plain": [
       "       Country  Happiness Score  Suicide rate per 10^5\n",
       "0  Afghanistan            3.575                    6.6\n",
       "1      Albania            4.959                    5.3\n",
       "2      Algeria            5.605                    3.4\n",
       "3       Angola            4.033                    9.3\n",
       "4    Argentina            6.574                    8.7"
      ]
     },
     "execution_count": 4,
     "metadata": {},
     "output_type": "execute_result"
    }
   ],
   "source": [
    "#merge two datasets directly -> only134 rows\n",
    "dataframe_filtered = df_happiness.merge(df_suicide, on=\"Country\", sort = True) \n",
    "\n",
    "print('Number of countries:', len(dataframe_filtered))\n",
    "dataframe_filtered.head()"
   ]
  },
  {
   "cell_type": "markdown",
   "metadata": {},
   "source": [
    "## Liste aller Länder mit ihren ISO 3166-1 alpha-2 Codes"
   ]
  },
  {
   "cell_type": "markdown",
   "metadata": {},
   "source": [
    "iso1.csv ist [List of all countries with their 2 digit codes (ISO 3166-1) ](https://datahub.io/core/country-list)\n",
    "\n",
    "iso2.csv ist [Countries ISO Codes dataset](https://www.kaggle.com/juanumusic/countries-iso-codes)\n",
    "\n",
    "\n",
    "iso3.csv ist [Countries of the World; ISO codes and population dataset](https://www.kaggle.com/erikbruin/countries-of-the-world-iso-codes-and-population?select=country_codes_2020.csv)  \n",
    "\n",
    "iso4.csv ist [Countries dataset](https://www.kaggle.com/neerjad/countries)"
   ]
  },
  {
   "cell_type": "code",
   "execution_count": 10,
   "metadata": {},
   "outputs": [
    {
     "data": {
      "text/html": [
       "<div>\n",
       "<style scoped>\n",
       "    .dataframe tbody tr th:only-of-type {\n",
       "        vertical-align: middle;\n",
       "    }\n",
       "\n",
       "    .dataframe tbody tr th {\n",
       "        vertical-align: top;\n",
       "    }\n",
       "\n",
       "    .dataframe thead th {\n",
       "        text-align: right;\n",
       "    }\n",
       "</style>\n",
       "<table border=\"1\" class=\"dataframe\">\n",
       "  <thead>\n",
       "    <tr style=\"text-align: right;\">\n",
       "      <th></th>\n",
       "      <th>Code</th>\n",
       "      <th>Country</th>\n",
       "    </tr>\n",
       "  </thead>\n",
       "  <tbody>\n",
       "    <tr>\n",
       "      <th>270</th>\n",
       "      <td>US</td>\n",
       "      <td>United States</td>\n",
       "    </tr>\n",
       "    <tr>\n",
       "      <th>271</th>\n",
       "      <td>UM</td>\n",
       "      <td>United States Minor Outlying Islands</td>\n",
       "    </tr>\n",
       "    <tr>\n",
       "      <th>272</th>\n",
       "      <td>US</td>\n",
       "      <td>United States Of America</td>\n",
       "    </tr>\n",
       "    <tr>\n",
       "      <th>273</th>\n",
       "      <td>VI</td>\n",
       "      <td>United States Virgin Islands</td>\n",
       "    </tr>\n",
       "    <tr>\n",
       "      <th>274</th>\n",
       "      <td>UY</td>\n",
       "      <td>Uruguay</td>\n",
       "    </tr>\n",
       "    <tr>\n",
       "      <th>275</th>\n",
       "      <td>UZ</td>\n",
       "      <td>Uzbekistan</td>\n",
       "    </tr>\n",
       "    <tr>\n",
       "      <th>276</th>\n",
       "      <td>VU</td>\n",
       "      <td>Vanuatu</td>\n",
       "    </tr>\n",
       "    <tr>\n",
       "      <th>277</th>\n",
       "      <td>VA</td>\n",
       "      <td>Vatican City</td>\n",
       "    </tr>\n",
       "    <tr>\n",
       "      <th>278</th>\n",
       "      <td>VE</td>\n",
       "      <td>Venezuela</td>\n",
       "    </tr>\n",
       "    <tr>\n",
       "      <th>279</th>\n",
       "      <td>VE</td>\n",
       "      <td>Venezuela, Bolivarian Republic of</td>\n",
       "    </tr>\n",
       "    <tr>\n",
       "      <th>280</th>\n",
       "      <td>VN</td>\n",
       "      <td>Viet Nam</td>\n",
       "    </tr>\n",
       "    <tr>\n",
       "      <th>281</th>\n",
       "      <td>VN</td>\n",
       "      <td>Vietnam</td>\n",
       "    </tr>\n",
       "    <tr>\n",
       "      <th>282</th>\n",
       "      <td>VG</td>\n",
       "      <td>Virgin Islands, British</td>\n",
       "    </tr>\n",
       "    <tr>\n",
       "      <th>283</th>\n",
       "      <td>VI</td>\n",
       "      <td>Virgin Islands, U.S.</td>\n",
       "    </tr>\n",
       "    <tr>\n",
       "      <th>284</th>\n",
       "      <td>WF</td>\n",
       "      <td>Wallis and Futuna</td>\n",
       "    </tr>\n",
       "    <tr>\n",
       "      <th>285</th>\n",
       "      <td>EH</td>\n",
       "      <td>Western Sahara</td>\n",
       "    </tr>\n",
       "    <tr>\n",
       "      <th>286</th>\n",
       "      <td>YE</td>\n",
       "      <td>Yemen</td>\n",
       "    </tr>\n",
       "    <tr>\n",
       "      <th>287</th>\n",
       "      <td>ZM</td>\n",
       "      <td>Zambia</td>\n",
       "    </tr>\n",
       "    <tr>\n",
       "      <th>288</th>\n",
       "      <td>ZW</td>\n",
       "      <td>Zimbabwe</td>\n",
       "    </tr>\n",
       "    <tr>\n",
       "      <th>289</th>\n",
       "      <td>AX</td>\n",
       "      <td>Åland Islands</td>\n",
       "    </tr>\n",
       "  </tbody>\n",
       "</table>\n",
       "</div>"
      ],
      "text/plain": [
       "    Code                               Country\n",
       "270   US                         United States\n",
       "271   UM  United States Minor Outlying Islands\n",
       "272   US              United States Of America\n",
       "273   VI          United States Virgin Islands\n",
       "274   UY                               Uruguay\n",
       "275   UZ                            Uzbekistan\n",
       "276   VU                               Vanuatu\n",
       "277   VA                          Vatican City\n",
       "278   VE                             Venezuela\n",
       "279   VE     Venezuela, Bolivarian Republic of\n",
       "280   VN                              Viet Nam\n",
       "281   VN                               Vietnam\n",
       "282   VG               Virgin Islands, British\n",
       "283   VI                  Virgin Islands, U.S.\n",
       "284   WF                     Wallis and Futuna\n",
       "285   EH                        Western Sahara\n",
       "286   YE                                 Yemen\n",
       "287   ZM                                Zambia\n",
       "288   ZW                              Zimbabwe\n",
       "289   AX                         Åland Islands"
      ]
     },
     "execution_count": 10,
     "metadata": {},
     "output_type": "execute_result"
    }
   ],
   "source": [
    "#read all four csv-files with different countries' names and countries' unique codes\n",
    "df_iso1= pd.read_csv(\"iso1.csv\").rename(columns={'Name': 'Country'})\n",
    "\n",
    "df_iso2 =pd.read_csv('iso2.csv', usecols= ['English short name lower case','Alpha-2 code']).rename(\n",
    "    columns={'English short name lower case':'Country', 'Alpha-2 code': 'Code'})\n",
    "\n",
    "df_iso3 = pd.read_csv('iso3.csv', usecols= ['name','cca2']).rename(\n",
    "    columns={'name':'Country', 'cca2': 'Code'})\n",
    "\n",
    "df_iso4 = pd.read_csv('iso4.csv', usecols= ['Country', 'ISO 3166 Country Code']).rename(\n",
    "    columns={'ISO 3166 Country Code': 'Code'})\n",
    "\n",
    "#delete rows with same country names\n",
    "df_iso = pd.concat([df_iso1, df_iso2, df_iso3, df_iso4], sort=True, ignore_index=True).drop_duplicates(subset='Country').sort_values('Country').reset_index().drop(columns='index')\n",
    "\n",
    "#result is a table with different spellings for a country name and its unique code, e.g. see rows 270 and 272\n",
    "df_iso.tail(20)"
   ]
  },
  {
   "cell_type": "code",
   "execution_count": 11,
   "metadata": {},
   "outputs": [
    {
     "name": "stdout",
     "output_type": "stream",
     "text": [
      "Number of countries: 139\n"
     ]
    },
    {
     "data": {
      "text/html": [
       "<div>\n",
       "<style scoped>\n",
       "    .dataframe tbody tr th:only-of-type {\n",
       "        vertical-align: middle;\n",
       "    }\n",
       "\n",
       "    .dataframe tbody tr th {\n",
       "        vertical-align: top;\n",
       "    }\n",
       "\n",
       "    .dataframe thead th {\n",
       "        text-align: right;\n",
       "    }\n",
       "</style>\n",
       "<table border=\"1\" class=\"dataframe\">\n",
       "  <thead>\n",
       "    <tr style=\"text-align: right;\">\n",
       "      <th></th>\n",
       "      <th>Country</th>\n",
       "      <th>Happiness Score</th>\n",
       "      <th>Suicide rate per 10^5</th>\n",
       "    </tr>\n",
       "  </thead>\n",
       "  <tbody>\n",
       "    <tr>\n",
       "      <th>0</th>\n",
       "      <td>Afghanistan</td>\n",
       "      <td>3.575</td>\n",
       "      <td>6.6</td>\n",
       "    </tr>\n",
       "    <tr>\n",
       "      <th>1</th>\n",
       "      <td>Albania</td>\n",
       "      <td>4.959</td>\n",
       "      <td>5.3</td>\n",
       "    </tr>\n",
       "    <tr>\n",
       "      <th>2</th>\n",
       "      <td>Algeria</td>\n",
       "      <td>5.605</td>\n",
       "      <td>3.4</td>\n",
       "    </tr>\n",
       "    <tr>\n",
       "      <th>3</th>\n",
       "      <td>Angola</td>\n",
       "      <td>4.033</td>\n",
       "      <td>9.3</td>\n",
       "    </tr>\n",
       "    <tr>\n",
       "      <th>4</th>\n",
       "      <td>Argentina</td>\n",
       "      <td>6.574</td>\n",
       "      <td>8.7</td>\n",
       "    </tr>\n",
       "  </tbody>\n",
       "</table>\n",
       "</div>"
      ],
      "text/plain": [
       "       Country  Happiness Score  Suicide rate per 10^5\n",
       "0  Afghanistan            3.575                    6.6\n",
       "1      Albania            4.959                    5.3\n",
       "2      Algeria            5.605                    3.4\n",
       "3       Angola            4.033                    9.3\n",
       "4    Argentina            6.574                    8.7"
      ]
     },
     "execution_count": 11,
     "metadata": {},
     "output_type": "execute_result"
    }
   ],
   "source": [
    "#merge two datasets using ISO codes\n",
    "dataframe_iso = df_iso.merge(df_happiness, on= 'Country')\n",
    "dataframe_filtered = df_iso.merge(df_suicide, on = 'Country').merge(dataframe_iso,\n",
    "                                    on= 'Code').drop_duplicates('Code').rename(columns={'Country_x':\n",
    "                                        'Country'}).reindex(columns=['Country', 'Happiness Score','Suicide rate per 10^5'])\n",
    "print('Number of countries:', len(dataframe_filtered))\n",
    "dataframe_filtered.head()\n",
    "\n",
    "\n"
   ]
  },
  {
   "cell_type": "code",
   "execution_count": 12,
   "metadata": {},
   "outputs": [
    {
     "name": "stdout",
     "output_type": "stream",
     "text": [
      "Happiness score getested\n",
      "Suicide rate getested\n"
     ]
    }
   ],
   "source": [
    "#test and verify data\n",
    "\n",
    "for index, row in dataframe_filtered.iterrows():\n",
    "    for i, r in df_happiness.iterrows():\n",
    "        if row['Country'] == r['Country'] and row['Happiness Score'] != r['Happiness Score']:\n",
    "            print(\"Fehler\")\n",
    "            break\n",
    "        #elif row['Country'] == r['Country']:\n",
    "            #print(index, row['Country'], r['Happiness Score'])\n",
    "print('Happiness score getested')\n",
    "            \n",
    "for index, row in dataframe_filtered.iterrows():\n",
    "    for i, r in df_suicide.iterrows():\n",
    "        if row['Country'] == r['Country'] and row['Suicide rate per 10^5'] != r['Suicide rate per 10^5']:\n",
    "            print(\"Fehler\")\n",
    "            break\n",
    "        #elif row['Country'] == r['Country']:\n",
    "            #print(index, row['Country'], r['Suicide rate per 10^5'])\n",
    "print('Suicide rate getested')"
   ]
  },
  {
   "cell_type": "markdown",
   "metadata": {},
   "source": [
    "## Analyse\n"
   ]
  },
  {
   "cell_type": "code",
   "execution_count": 13,
   "metadata": {},
   "outputs": [],
   "source": [
    "X = dataframe_filtered.iloc[:, 1:2].values #2D Array\n",
    "y = dataframe_filtered.iloc[:, 2].values #1D Array"
   ]
  },
  {
   "cell_type": "code",
   "execution_count": 14,
   "metadata": {},
   "outputs": [],
   "source": [
    "# Splitting the dataset into the training set and test set\n",
    "\n",
    "X_train, X_test, y_train, y_test = train_test_split(X, y, test_size=0.2)\n",
    "\n",
    "zipped_lists = zip(X_train, y_train)\n",
    "sorted_pairs = sorted(zipped_lists)\n",
    "\n",
    "tuples = zip(*sorted_pairs)\n",
    "X_train, y_train = [ list(tuple) for tuple in  tuples]\n",
    "\n",
    "zipped_lists1 = zip(X_test, y_test)\n",
    "sorted_pairs1 = sorted(zipped_lists1)\n",
    "\n",
    "tuples1 = zip(*sorted_pairs1)\n",
    "X_test, y_test = [ list(tuple) for tuple in  tuples1]\n"
   ]
  },
  {
   "cell_type": "markdown",
   "metadata": {},
   "source": [
    "## Regression models degree = 1, 2, 4"
   ]
  },
  {
   "cell_type": "code",
   "execution_count": 15,
   "metadata": {},
   "outputs": [
    {
     "data": {
      "image/png": "[encoded data removed]",
      "text/plain": [
       "<Figure size 432x288 with 1 Axes>"
      ]
     },
     "metadata": {
      "needs_background": "light"
     },
     "output_type": "display_data"
    }
   ],
   "source": [
    "# Fitting Linear Regression to the dataset\n",
    "lin_reg = LinearRegression()\n",
    "lin_reg.fit(X_train, y_train)\n",
    "\n",
    "# Visualizing the Linear Regression results\n",
    "def viz_linear():\n",
    "    plt.scatter(X_train, y_train, color='red')\n",
    "    plt.scatter(X_test, y_test, color='green')\n",
    "    plt.plot(X_train, lin_reg.predict(X_train), color='blue')\n",
    "    plt.title('Linear Regression on training set')\n",
    "    plt.xlabel('Happiness Score')\n",
    "    plt.ylabel('Suicide rate')\n",
    "    plt.show()\n",
    "    return\n",
    "\n",
    "# Predicting suicide rates for test set with linear regression\n",
    "lin = lin_reg.predict(X_test)\n",
    "linX = lin_reg.predict(X)\n",
    "\n",
    "viz_linear()"
   ]
  },
  {
   "cell_type": "code",
   "execution_count": 19,
   "metadata": {},
   "outputs": [
    {
     "data": {
      "image/png": "[encoded data removed]",
      "text/plain": [
       "<Figure size 432x288 with 1 Axes>"
      ]
     },
     "metadata": {
      "needs_background": "light"
     },
     "output_type": "display_data"
    }
   ],
   "source": [
    "# Fitting Polynomial Regression to the dataset\n",
    "\n",
    "poly_reg = PolynomialFeatures(degree=2)   \n",
    "X_poly = poly_reg.fit_transform(X_train)\n",
    "pol_reg = LinearRegression()\n",
    "pol_reg.fit(X_poly, y_train)\n",
    "\n",
    "# Visualizing the Polymonial Regression results\n",
    "def viz_polymonial(poly_reg):\n",
    "    plt.scatter(X_train, y_train, color='red')\n",
    "    plt.scatter(X_test, y_test, color='green')\n",
    "    plt.plot(X_train, pol_reg.predict(poly_reg.fit_transform(X_train)), color='blue')\n",
    "    plt.title('Polynomial Regression on training set')\n",
    "    plt.xlabel('Happiness Score')\n",
    "    plt.ylabel('Suicide rate')\n",
    "    plt.show()\n",
    "    return\n",
    "\n",
    "# Predicting suicide rates for test set with polynomial regression degree 2\n",
    "pol = pol_reg.predict(poly_reg.fit_transform(X_test))\n",
    "polX = pol_reg.predict(poly_reg.fit_transform(X))\n",
    "\n",
    "viz_polymonial(poly_reg)"
   ]
  },
  {
   "cell_type": "code",
   "execution_count": 20,
   "metadata": {},
   "outputs": [
    {
     "data": {
      "image/png": "[encoded data removed]",
      "text/plain": [
       "<Figure size 432x288 with 1 Axes>"
      ]
     },
     "metadata": {
      "needs_background": "light"
     },
     "output_type": "display_data"
    }
   ],
   "source": [
    "poly_reg_4 = PolynomialFeatures(degree=4)\n",
    "X_poly_4 = poly_reg_4.fit_transform(X_train)\n",
    "pol_reg = LinearRegression()\n",
    "pol_reg.fit(X_poly_4, y_train)\n",
    "\n",
    "# Predicting suicide rates for test set with polynomial regression degree 4\n",
    "pol_4 = pol_reg.predict(poly_reg_4.fit_transform(X_test))\n",
    "polX_4 = pol_reg.predict(poly_reg_4.fit_transform(X))\n",
    "\n",
    "viz_polymonial(poly_reg_4)"
   ]
  },
  {
   "cell_type": "markdown",
   "metadata": {},
   "source": [
    "## Prediction errors"
   ]
  },
  {
   "cell_type": "code",
   "execution_count": 24,
   "metadata": {},
   "outputs": [
    {
     "data": {
      "image/png": "[encoded data removed]",
      "text/plain": [
       "<Figure size 432x288 with 1 Axes>"
      ]
     },
     "metadata": {
      "needs_background": "light"
     },
     "output_type": "display_data"
    },
    {
     "name": "stdout",
     "output_type": "stream",
     "text": [
      "RMSE for linear regression: 6.373826326963088\n",
      "R^2 Score for linear regression: -0.04823752656472391\n"
     ]
    }
   ],
   "source": [
    "numInstances=len(X_test);\n",
    "\n",
    "Error=lin-y_test\n",
    "plt.stem(np.arange(numInstances),Error)\n",
    "plt.title('Prediction Error')\n",
    "plt.show()\n",
    "\n",
    "rmse_1 = np.sqrt(np.mean((lin-y_test)**2))\n",
    "r2_1 = r2_score(y_test, lin)\n",
    "\n",
    "\n",
    "# mean square error for linear regression prediction\n",
    "print('RMSE for linear regression:', rmse_1)\n",
    "\n",
    "# R^2 error for linear regression prediction\n",
    "print('R^2 Score for linear regression:', r2_1)"
   ]
  },
  {
   "cell_type": "code",
   "execution_count": 25,
   "metadata": {},
   "outputs": [
    {
     "data": {
      "image/png": "[encoded data removed]",
      "text/plain": [
       "<Figure size 432x288 with 1 Axes>"
      ]
     },
     "metadata": {
      "needs_background": "light"
     },
     "output_type": "display_data"
    },
    {
     "name": "stdout",
     "output_type": "stream",
     "text": [
      "RMSE for linear regression: 5.508354165708032\n",
      "R^2 Score for linear regression: 0.003519658409806059\n"
     ]
    }
   ],
   "source": [
    "numInstances=len(X);\n",
    "\n",
    "Error=linX-y\n",
    "plt.stem(np.arange(numInstances),Error)\n",
    "plt.title('Prediction Error')\n",
    "plt.show()\n",
    "\n",
    "rmseX_1 = np.sqrt(np.mean((linX-y)**2))\n",
    "r2X_1 = r2_score(y, linX)\n",
    "# mean square error for linear regression prediction\n",
    "print('RMSE for linear regression:', rmseX_1)\n",
    "\n",
    "# R^2 error for linear regression prediction\n",
    "print('R^2 Score for linear regression:',r2X_1)"
   ]
  },
  {
   "cell_type": "code",
   "execution_count": 26,
   "metadata": {},
   "outputs": [
    {
     "data": {
      "image/png": "[encoded data removed]",
      "text/plain": [
       "<Figure size 432x288 with 1 Axes>"
      ]
     },
     "metadata": {
      "needs_background": "light"
     },
     "output_type": "display_data"
    },
    {
     "name": "stdout",
     "output_type": "stream",
     "text": [
      "RMSE for polynomial regression degree 2: 6.5575348929494\n",
      "R^2 Score for polynomial regression degree 2: -0.10953363490410006\n"
     ]
    }
   ],
   "source": [
    "numInstances=len(X_test);\n",
    "\n",
    "Error=pol-y_test\n",
    "plt.stem(np.arange(numInstances),Error)\n",
    "plt.title('Prediction Error')\n",
    "plt.show()\n",
    "\n",
    "rmse_2 = np.sqrt(np.mean((pol-y_test)**2))\n",
    "r2_2 = r2_score(y_test, pol)\n",
    "# mean square error for Polynomial Regression prediction\n",
    "print('RMSE for polynomial regression degree 2:', rmse_2)\n",
    "\n",
    "# R^2 error for Polynomial Regression prediction\n",
    "print('R^2 Score for polynomial regression degree 2:', r2_2)"
   ]
  },
  {
   "cell_type": "code",
   "execution_count": 27,
   "metadata": {},
   "outputs": [
    {
     "data": {
      "image/png": "[encoded data removed]",
      "text/plain": [
       "<Figure size 432x288 with 1 Axes>"
      ]
     },
     "metadata": {
      "needs_background": "light"
     },
     "output_type": "display_data"
    },
    {
     "name": "stdout",
     "output_type": "stream",
     "text": [
      "RMSE for polynomial regression degree 2: 5.502908916690903\n",
      "R^2 Score for polynomial regression degree 2: 0.005488813433974005\n"
     ]
    }
   ],
   "source": [
    "numInstances=len(X);\n",
    "\n",
    "Error=polX-y\n",
    "plt.stem(np.arange(numInstances),Error)\n",
    "plt.title('Prediction Error')\n",
    "plt.show()\n",
    "\n",
    "rmseX_2 = np.sqrt(np.mean((polX-y)**2))\n",
    "r2X_2 = r2_score(y, polX)\n",
    "\n",
    "# mean square error for Polynomial Regression prediction\n",
    "print('RMSE for polynomial regression degree 2:',rmseX_2 )\n",
    "\n",
    "\n",
    "# R^2 error for Polynomial Regression prediction\n",
    "print('R^2 Score for polynomial regression degree 2:', r2X_2)"
   ]
  },
  {
   "cell_type": "code",
   "execution_count": 28,
   "metadata": {},
   "outputs": [
    {
     "data": {
      "image/png": "[encoded data removed]",
      "text/plain": [
       "<Figure size 432x288 with 1 Axes>"
      ]
     },
     "metadata": {
      "needs_background": "light"
     },
     "output_type": "display_data"
    },
    {
     "name": "stdout",
     "output_type": "stream",
     "text": [
      "RMSE for for polynomial regression degree 4: 6.619873297780741\n",
      "R^2 Score for polynomial regression degree 4: -0.13072919688139284\n"
     ]
    }
   ],
   "source": [
    "numInstances=len(X_test);\n",
    "\n",
    "Error=pol_4-y_test\n",
    "plt.stem(np.arange(numInstances),Error)\n",
    "plt.title('Prediction Error')\n",
    "plt.show()\n",
    "\n",
    "rmse_4 = np.sqrt(np.mean((pol_4-y_test)**2))\n",
    "r2_4 = r2_score(y_test, pol_4)\n",
    "# mean square error for Polynomial Regression prediction\n",
    "print('RMSE for for polynomial regression degree 4:', rmse_4)\n",
    "\n",
    "# R^2 error for Polynomial Regression prediction\n",
    "print('R^2 Score for polynomial regression degree 4:',r2_4)"
   ]
  },
  {
   "cell_type": "code",
   "execution_count": 29,
   "metadata": {},
   "outputs": [
    {
     "data": {
      "image/png": "[encoded data removed]",
      "text/plain": [
       "<Figure size 432x288 with 1 Axes>"
      ]
     },
     "metadata": {
      "needs_background": "light"
     },
     "output_type": "display_data"
    },
    {
     "name": "stdout",
     "output_type": "stream",
     "text": [
      "RMSE for polynomial regression degree 4: 5.513674216543723\n",
      "R^2 Score for polynomial regression degree 4: 0.00159389766005269\n"
     ]
    }
   ],
   "source": [
    "numInstances=len(X);\n",
    "\n",
    "Error=polX_4-y\n",
    "plt.stem(np.arange(numInstances),Error)\n",
    "plt.title('Prediction Error')\n",
    "plt.show()\n",
    "\n",
    "rmseX_4 = np.sqrt(np.mean((polX_4-y)**2))\n",
    "r2X_4 = r2_score(y, polX_4)\n",
    "# mean square error for Polynomial Regression prediction\n",
    "print('RMSE for polynomial regression degree 4:', rmseX_4)\n",
    "\n",
    "\n",
    "# R^2 error for Polynomial Regression prediction\n",
    "print('R^2 Score for polynomial regression degree 4:', r2X_4) "
   ]
  },
  {
   "cell_type": "code",
   "execution_count": 30,
   "metadata": {},
   "outputs": [
    {
     "name": "stdout",
     "output_type": "stream",
     "text": [
      "                       Happiness Score  Suicide rate per 10^5\n",
      "Happiness Score               1.000000              -0.079243\n",
      "Suicide rate per 10^5        -0.079243               1.000000\n"
     ]
    }
   ],
   "source": [
    "# Correlation Coefficient \n",
    "print(dataframe_filtered.corr())"
   ]
  },
  {
   "cell_type": "code",
   "execution_count": 31,
   "metadata": {},
   "outputs": [
    {
     "data": {
      "text/html": [
       "<div>\n",
       "<style scoped>\n",
       "    .dataframe tbody tr th:only-of-type {\n",
       "        vertical-align: middle;\n",
       "    }\n",
       "\n",
       "    .dataframe tbody tr th {\n",
       "        vertical-align: top;\n",
       "    }\n",
       "\n",
       "    .dataframe thead th {\n",
       "        text-align: right;\n",
       "    }\n",
       "</style>\n",
       "<table border=\"1\" class=\"dataframe\">\n",
       "  <thead>\n",
       "    <tr style=\"text-align: right;\">\n",
       "      <th></th>\n",
       "      <th>Error</th>\n",
       "      <th>X_test</th>\n",
       "      <th>X</th>\n",
       "    </tr>\n",
       "  </thead>\n",
       "  <tbody>\n",
       "    <tr>\n",
       "      <th>0</th>\n",
       "      <td>RMSE lineare regression</td>\n",
       "      <td>6.373826326963088</td>\n",
       "      <td>5.508354165708032</td>\n",
       "    </tr>\n",
       "    <tr>\n",
       "      <th>1</th>\n",
       "      <td>RMSE polyn.Regression Grad 2</td>\n",
       "      <td>6.5575348929494</td>\n",
       "      <td>5.502908916690903</td>\n",
       "    </tr>\n",
       "    <tr>\n",
       "      <th>2</th>\n",
       "      <td>RMSE polyn.Regression Grad 4</td>\n",
       "      <td>6.619873297780741</td>\n",
       "      <td>5.513674216543723</td>\n",
       "    </tr>\n",
       "    <tr>\n",
       "      <th>3</th>\n",
       "      <td>R2 lineare regression</td>\n",
       "      <td>-0.04823752656472391</td>\n",
       "      <td>0.003519658409806059</td>\n",
       "    </tr>\n",
       "    <tr>\n",
       "      <th>4</th>\n",
       "      <td>R2 polyn.Regression Grad 2</td>\n",
       "      <td>-0.10953363490410006</td>\n",
       "      <td>0.005488813433974005</td>\n",
       "    </tr>\n",
       "    <tr>\n",
       "      <th>5</th>\n",
       "      <td>R2 polyn.Regression Grad 4</td>\n",
       "      <td>-0.13072919688139284</td>\n",
       "      <td>0.00159389766005269</td>\n",
       "    </tr>\n",
       "  </tbody>\n",
       "</table>\n",
       "</div>"
      ],
      "text/plain": [
       "                          Error                X_test                     X\n",
       "0       RMSE lineare regression     6.373826326963088     5.508354165708032\n",
       "1  RMSE polyn.Regression Grad 2       6.5575348929494     5.502908916690903\n",
       "2  RMSE polyn.Regression Grad 4     6.619873297780741     5.513674216543723\n",
       "3         R2 lineare regression  -0.04823752656472391  0.003519658409806059\n",
       "4    R2 polyn.Regression Grad 2  -0.10953363490410006  0.005488813433974005\n",
       "5    R2 polyn.Regression Grad 4  -0.13072919688139284   0.00159389766005269"
      ]
     },
     "execution_count": 31,
     "metadata": {},
     "output_type": "execute_result"
    }
   ],
   "source": [
    "# Error table\n",
    "df_error = pd.DataFrame(np.array( [['RMSE lineare regression', rmse_1,rmseX_1],['RMSE polyn.Regression Grad 2', rmse_2, rmseX_2],['RMSE polyn.Regression Grad 4', rmse_4,rmseX_4],\n",
    "                                         ['R2 lineare regression', r2_1,r2X_1],['R2 polyn.Regression Grad 2', r2_2,r2X_2],['R2 polyn.Regression Grad 4', r2_4,r2X_4]]), columns=['Error', 'X_test', 'X'])\n",
    "df_error"
   ]
  },
  {
   "cell_type": "code",
   "execution_count": null,
   "metadata": {},
   "outputs": [],
   "source": []
  }
 ],
 "metadata": {
  "kernelspec": {
   "display_name": "Python 3",
   "language": "python",
   "name": "python3"
  },
  "language_info": {
   "codemirror_mode": {
    "name": "ipython",
    "version": 3
   },
   "file_extension": ".py",
   "mimetype": "text/x-python",
   "name": "python",
   "nbconvert_exporter": "python",
   "pygments_lexer": "ipython3",
   "version": "3.7.3"
  }
 },
 "nbformat": 4,
 "nbformat_minor": 2
}
